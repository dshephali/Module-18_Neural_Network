{
 "cells": [
  {
   "cell_type": "markdown",
   "metadata": {
    "id": "T7ZNhGcW6q6r"
   },
   "source": [
    "# Student Loan Risk with Deep Learning"
   ]
  },
  {
   "cell_type": "code",
   "execution_count": 1,
   "metadata": {
    "id": "0otrXpJc6q6u"
   },
   "outputs": [],
   "source": [
    "# Imports\n",
    "import pandas as pd\n",
    "import tensorflow as tf\n",
    "from tensorflow.keras.layers import Dense\n",
    "from tensorflow.keras.models import Sequential\n",
    "from sklearn.model_selection import train_test_split\n",
    "from sklearn.preprocessing import StandardScaler\n",
    "from sklearn.metrics import classification_report\n",
    "from pathlib import Path"
   ]
  },
  {
   "cell_type": "markdown",
   "metadata": {
    "id": "OpV4Y-3Z6q6w"
   },
   "source": [
    "---\n",
    "\n",
    "## Prepare the data to be used on a neural network model"
   ]
  },
  {
   "cell_type": "markdown",
   "metadata": {
    "id": "TUuSzp2l6q6w"
   },
   "source": [
    "### Step 1: Read the `student-loans.csv` file into a Pandas DataFrame. Review the DataFrame, looking for columns that could eventually define your features and target variables.   "
   ]
  },
  {
   "cell_type": "code",
   "execution_count": 2,
   "metadata": {
    "colab": {
     "base_uri": "https://localhost:8080/",
     "height": 226
    },
    "id": "G65km1KD6q6x",
    "outputId": "93d12d8d-c415-4017-8452-5b4966e4dde5"
   },
   "outputs": [
    {
     "data": {
      "text/html": [
       "<div>\n",
       "<style scoped>\n",
       "    .dataframe tbody tr th:only-of-type {\n",
       "        vertical-align: middle;\n",
       "    }\n",
       "\n",
       "    .dataframe tbody tr th {\n",
       "        vertical-align: top;\n",
       "    }\n",
       "\n",
       "    .dataframe thead th {\n",
       "        text-align: right;\n",
       "    }\n",
       "</style>\n",
       "<table border=\"1\" class=\"dataframe\">\n",
       "  <thead>\n",
       "    <tr style=\"text-align: right;\">\n",
       "      <th></th>\n",
       "      <th>payment_history</th>\n",
       "      <th>location_parameter</th>\n",
       "      <th>stem_degree_score</th>\n",
       "      <th>gpa_ranking</th>\n",
       "      <th>alumni_success</th>\n",
       "      <th>study_major_code</th>\n",
       "      <th>time_to_completion</th>\n",
       "      <th>finance_workshop_score</th>\n",
       "      <th>cohort_ranking</th>\n",
       "      <th>total_loan_score</th>\n",
       "      <th>financial_aid_score</th>\n",
       "      <th>credit_ranking</th>\n",
       "    </tr>\n",
       "  </thead>\n",
       "  <tbody>\n",
       "    <tr>\n",
       "      <th>0</th>\n",
       "      <td>7.4</td>\n",
       "      <td>0.70</td>\n",
       "      <td>0.00</td>\n",
       "      <td>1.9</td>\n",
       "      <td>0.076</td>\n",
       "      <td>11.0</td>\n",
       "      <td>34.0</td>\n",
       "      <td>0.9978</td>\n",
       "      <td>3.51</td>\n",
       "      <td>0.56</td>\n",
       "      <td>9.4</td>\n",
       "      <td>0</td>\n",
       "    </tr>\n",
       "    <tr>\n",
       "      <th>1</th>\n",
       "      <td>7.8</td>\n",
       "      <td>0.88</td>\n",
       "      <td>0.00</td>\n",
       "      <td>2.6</td>\n",
       "      <td>0.098</td>\n",
       "      <td>25.0</td>\n",
       "      <td>67.0</td>\n",
       "      <td>0.9968</td>\n",
       "      <td>3.20</td>\n",
       "      <td>0.68</td>\n",
       "      <td>9.8</td>\n",
       "      <td>0</td>\n",
       "    </tr>\n",
       "    <tr>\n",
       "      <th>2</th>\n",
       "      <td>7.8</td>\n",
       "      <td>0.76</td>\n",
       "      <td>0.04</td>\n",
       "      <td>2.3</td>\n",
       "      <td>0.092</td>\n",
       "      <td>15.0</td>\n",
       "      <td>54.0</td>\n",
       "      <td>0.9970</td>\n",
       "      <td>3.26</td>\n",
       "      <td>0.65</td>\n",
       "      <td>9.8</td>\n",
       "      <td>0</td>\n",
       "    </tr>\n",
       "    <tr>\n",
       "      <th>3</th>\n",
       "      <td>11.2</td>\n",
       "      <td>0.28</td>\n",
       "      <td>0.56</td>\n",
       "      <td>1.9</td>\n",
       "      <td>0.075</td>\n",
       "      <td>17.0</td>\n",
       "      <td>60.0</td>\n",
       "      <td>0.9980</td>\n",
       "      <td>3.16</td>\n",
       "      <td>0.58</td>\n",
       "      <td>9.8</td>\n",
       "      <td>1</td>\n",
       "    </tr>\n",
       "    <tr>\n",
       "      <th>4</th>\n",
       "      <td>7.4</td>\n",
       "      <td>0.70</td>\n",
       "      <td>0.00</td>\n",
       "      <td>1.9</td>\n",
       "      <td>0.076</td>\n",
       "      <td>11.0</td>\n",
       "      <td>34.0</td>\n",
       "      <td>0.9978</td>\n",
       "      <td>3.51</td>\n",
       "      <td>0.56</td>\n",
       "      <td>9.4</td>\n",
       "      <td>0</td>\n",
       "    </tr>\n",
       "  </tbody>\n",
       "</table>\n",
       "</div>"
      ],
      "text/plain": [
       "   payment_history  location_parameter  stem_degree_score  gpa_ranking  \\\n",
       "0              7.4                0.70               0.00          1.9   \n",
       "1              7.8                0.88               0.00          2.6   \n",
       "2              7.8                0.76               0.04          2.3   \n",
       "3             11.2                0.28               0.56          1.9   \n",
       "4              7.4                0.70               0.00          1.9   \n",
       "\n",
       "   alumni_success  study_major_code  time_to_completion  \\\n",
       "0           0.076              11.0                34.0   \n",
       "1           0.098              25.0                67.0   \n",
       "2           0.092              15.0                54.0   \n",
       "3           0.075              17.0                60.0   \n",
       "4           0.076              11.0                34.0   \n",
       "\n",
       "   finance_workshop_score  cohort_ranking  total_loan_score  \\\n",
       "0                  0.9978            3.51              0.56   \n",
       "1                  0.9968            3.20              0.68   \n",
       "2                  0.9970            3.26              0.65   \n",
       "3                  0.9980            3.16              0.58   \n",
       "4                  0.9978            3.51              0.56   \n",
       "\n",
       "   financial_aid_score  credit_ranking  \n",
       "0                  9.4               0  \n",
       "1                  9.8               0  \n",
       "2                  9.8               0  \n",
       "3                  9.8               1  \n",
       "4                  9.4               0  "
      ]
     },
     "execution_count": 2,
     "metadata": {},
     "output_type": "execute_result"
    }
   ],
   "source": [
    "# Read the csv into a Pandas DataFrame\n",
    "file_path = \"https://static.bc-edx.com/ai/ail-v-1-0/m18/lms/datasets/student-loans.csv\"\n",
    "loans_df = pd.read_csv(file_path)\n",
    "\n",
    "# Review the DataFrame\n",
    "loans_df.head()"
   ]
  },
  {
   "cell_type": "code",
   "execution_count": 3,
   "metadata": {
    "colab": {
     "base_uri": "https://localhost:8080/"
    },
    "id": "K8ZYB8wx6q6x",
    "outputId": "b509fc34-4488-406e-e451-2069fec37371"
   },
   "outputs": [
    {
     "data": {
      "text/plain": [
       "payment_history           float64\n",
       "location_parameter        float64\n",
       "stem_degree_score         float64\n",
       "gpa_ranking               float64\n",
       "alumni_success            float64\n",
       "study_major_code          float64\n",
       "time_to_completion        float64\n",
       "finance_workshop_score    float64\n",
       "cohort_ranking            float64\n",
       "total_loan_score          float64\n",
       "financial_aid_score       float64\n",
       "credit_ranking              int64\n",
       "dtype: object"
      ]
     },
     "execution_count": 3,
     "metadata": {},
     "output_type": "execute_result"
    }
   ],
   "source": [
    "# Review the data types associated with the columns\n",
    "loans_df.dtypes"
   ]
  },
  {
   "cell_type": "code",
   "execution_count": 4,
   "metadata": {
    "colab": {
     "base_uri": "https://localhost:8080/"
    },
    "id": "9P8aX-dW75JO",
    "outputId": "63251fa8-5ac1-4112-c2f7-bc5d97ea8491"
   },
   "outputs": [
    {
     "data": {
      "text/plain": [
       "credit_ranking\n",
       "1    855\n",
       "0    744\n",
       "Name: count, dtype: int64"
      ]
     },
     "execution_count": 4,
     "metadata": {},
     "output_type": "execute_result"
    }
   ],
   "source": [
    "# Check the credit_ranking value counts\n",
    "loans_df[\"credit_ranking\"].value_counts()"
   ]
  },
  {
   "cell_type": "markdown",
   "metadata": {
    "id": "R6vbZeDH6q6y"
   },
   "source": [
    "### Step 2: Using the preprocessed data, create the features (`X`) and target (`y`) datasets. The target dataset should be defined by the preprocessed DataFrame column “credit_ranking”. The remaining columns should define the features dataset."
   ]
  },
  {
   "cell_type": "code",
   "execution_count": 5,
   "metadata": {
    "colab": {
     "base_uri": "https://localhost:8080/"
    },
    "id": "Q5eVAP5M6q6y",
    "outputId": "89728bbf-6930-4573-a126-9f1b66ed8859"
   },
   "outputs": [
    {
     "data": {
      "text/plain": [
       "0    0\n",
       "1    0\n",
       "2    0\n",
       "3    1\n",
       "4    0\n",
       "Name: credit_ranking, dtype: int64"
      ]
     },
     "execution_count": 5,
     "metadata": {},
     "output_type": "execute_result"
    }
   ],
   "source": [
    "# Define the target set y using the credit_ranking column\n",
    "y = loans_df[\"credit_ranking\"]\n",
    "\n",
    "# Display a sample of y\n",
    "y.head()"
   ]
  },
  {
   "cell_type": "code",
   "execution_count": 6,
   "metadata": {
    "colab": {
     "base_uri": "https://localhost:8080/",
     "height": 226
    },
    "id": "IIkrD2Sn6q6z",
    "outputId": "ce07c4a3-fb81-4657-d11e-ec85ae8554c9"
   },
   "outputs": [
    {
     "data": {
      "text/html": [
       "<div>\n",
       "<style scoped>\n",
       "    .dataframe tbody tr th:only-of-type {\n",
       "        vertical-align: middle;\n",
       "    }\n",
       "\n",
       "    .dataframe tbody tr th {\n",
       "        vertical-align: top;\n",
       "    }\n",
       "\n",
       "    .dataframe thead th {\n",
       "        text-align: right;\n",
       "    }\n",
       "</style>\n",
       "<table border=\"1\" class=\"dataframe\">\n",
       "  <thead>\n",
       "    <tr style=\"text-align: right;\">\n",
       "      <th></th>\n",
       "      <th>payment_history</th>\n",
       "      <th>location_parameter</th>\n",
       "      <th>stem_degree_score</th>\n",
       "      <th>gpa_ranking</th>\n",
       "      <th>alumni_success</th>\n",
       "      <th>study_major_code</th>\n",
       "      <th>time_to_completion</th>\n",
       "      <th>finance_workshop_score</th>\n",
       "      <th>cohort_ranking</th>\n",
       "      <th>total_loan_score</th>\n",
       "      <th>financial_aid_score</th>\n",
       "    </tr>\n",
       "  </thead>\n",
       "  <tbody>\n",
       "    <tr>\n",
       "      <th>0</th>\n",
       "      <td>7.4</td>\n",
       "      <td>0.70</td>\n",
       "      <td>0.00</td>\n",
       "      <td>1.9</td>\n",
       "      <td>0.076</td>\n",
       "      <td>11.0</td>\n",
       "      <td>34.0</td>\n",
       "      <td>0.9978</td>\n",
       "      <td>3.51</td>\n",
       "      <td>0.56</td>\n",
       "      <td>9.4</td>\n",
       "    </tr>\n",
       "    <tr>\n",
       "      <th>1</th>\n",
       "      <td>7.8</td>\n",
       "      <td>0.88</td>\n",
       "      <td>0.00</td>\n",
       "      <td>2.6</td>\n",
       "      <td>0.098</td>\n",
       "      <td>25.0</td>\n",
       "      <td>67.0</td>\n",
       "      <td>0.9968</td>\n",
       "      <td>3.20</td>\n",
       "      <td>0.68</td>\n",
       "      <td>9.8</td>\n",
       "    </tr>\n",
       "    <tr>\n",
       "      <th>2</th>\n",
       "      <td>7.8</td>\n",
       "      <td>0.76</td>\n",
       "      <td>0.04</td>\n",
       "      <td>2.3</td>\n",
       "      <td>0.092</td>\n",
       "      <td>15.0</td>\n",
       "      <td>54.0</td>\n",
       "      <td>0.9970</td>\n",
       "      <td>3.26</td>\n",
       "      <td>0.65</td>\n",
       "      <td>9.8</td>\n",
       "    </tr>\n",
       "    <tr>\n",
       "      <th>3</th>\n",
       "      <td>11.2</td>\n",
       "      <td>0.28</td>\n",
       "      <td>0.56</td>\n",
       "      <td>1.9</td>\n",
       "      <td>0.075</td>\n",
       "      <td>17.0</td>\n",
       "      <td>60.0</td>\n",
       "      <td>0.9980</td>\n",
       "      <td>3.16</td>\n",
       "      <td>0.58</td>\n",
       "      <td>9.8</td>\n",
       "    </tr>\n",
       "    <tr>\n",
       "      <th>4</th>\n",
       "      <td>7.4</td>\n",
       "      <td>0.70</td>\n",
       "      <td>0.00</td>\n",
       "      <td>1.9</td>\n",
       "      <td>0.076</td>\n",
       "      <td>11.0</td>\n",
       "      <td>34.0</td>\n",
       "      <td>0.9978</td>\n",
       "      <td>3.51</td>\n",
       "      <td>0.56</td>\n",
       "      <td>9.4</td>\n",
       "    </tr>\n",
       "  </tbody>\n",
       "</table>\n",
       "</div>"
      ],
      "text/plain": [
       "   payment_history  location_parameter  stem_degree_score  gpa_ranking  \\\n",
       "0              7.4                0.70               0.00          1.9   \n",
       "1              7.8                0.88               0.00          2.6   \n",
       "2              7.8                0.76               0.04          2.3   \n",
       "3             11.2                0.28               0.56          1.9   \n",
       "4              7.4                0.70               0.00          1.9   \n",
       "\n",
       "   alumni_success  study_major_code  time_to_completion  \\\n",
       "0           0.076              11.0                34.0   \n",
       "1           0.098              25.0                67.0   \n",
       "2           0.092              15.0                54.0   \n",
       "3           0.075              17.0                60.0   \n",
       "4           0.076              11.0                34.0   \n",
       "\n",
       "   finance_workshop_score  cohort_ranking  total_loan_score  \\\n",
       "0                  0.9978            3.51              0.56   \n",
       "1                  0.9968            3.20              0.68   \n",
       "2                  0.9970            3.26              0.65   \n",
       "3                  0.9980            3.16              0.58   \n",
       "4                  0.9978            3.51              0.56   \n",
       "\n",
       "   financial_aid_score  \n",
       "0                  9.4  \n",
       "1                  9.8  \n",
       "2                  9.8  \n",
       "3                  9.8  \n",
       "4                  9.4  "
      ]
     },
     "execution_count": 6,
     "metadata": {},
     "output_type": "execute_result"
    }
   ],
   "source": [
    "# Define features set X by selecting all columns but credit_ranking\n",
    "X = loans_df.drop(columns=\"credit_ranking\")\n",
    "\n",
    "# Review the features DataFrame\n",
    "X.head()"
   ]
  },
  {
   "cell_type": "markdown",
   "metadata": {
    "id": "QmM9c-tj6q6z"
   },
   "source": [
    "### Step 3: Split the features and target sets into training and testing datasets.\n"
   ]
  },
  {
   "cell_type": "code",
   "execution_count": 7,
   "metadata": {
    "id": "OD7xwU_96q6z"
   },
   "outputs": [],
   "source": [
    "# Split the preprocessed data into a training and testing dataset\n",
    "# Assign the function a random_state equal to 1\n",
    "X_train, X_test, y_train, y_test = train_test_split(X, y, random_state=1)"
   ]
  },
  {
   "cell_type": "markdown",
   "metadata": {
    "id": "G9i6DHY06q6z"
   },
   "source": [
    "### Step 4: Use scikit-learn's `StandardScaler` to scale the features data."
   ]
  },
  {
   "cell_type": "code",
   "execution_count": 8,
   "metadata": {
    "id": "BzD3z20m6q6z"
   },
   "outputs": [],
   "source": [
    "# Create a StandardScaler instance\n",
    "X_scaler = StandardScaler()\n",
    "\n",
    "# Fit the scaler to the features training dataset\n",
    "X_scaler.fit(X_train)\n",
    "\n",
    "# Scale the data\n",
    "X_train_scaled = X_scaler.transform(X_train)\n",
    "X_test_scaled = X_scaler.transform(X_test)"
   ]
  },
  {
   "cell_type": "markdown",
   "metadata": {
    "id": "CZzVDjba6q6z"
   },
   "source": [
    "---\n",
    "\n",
    "## Compile and Evaluate a Model Using a Neural Network"
   ]
  },
  {
   "cell_type": "markdown",
   "metadata": {
    "id": "m-pSux4Q6q60"
   },
   "source": [
    "### Step 1: Create a deep neural network by assigning the number of input features, the number of layers, and the number of neurons on each layer using Tensorflow’s Keras.\n",
    "\n",
    "> **Hint** You can start with a two-layer deep neural network model that uses the `relu` activation function for both layers.\n"
   ]
  },
  {
   "cell_type": "code",
   "execution_count": 9,
   "metadata": {
    "colab": {
     "base_uri": "https://localhost:8080/"
    },
    "id": "t5C94FCd6q60",
    "outputId": "cbf05783-2f56-4745-cd33-649a6152e510"
   },
   "outputs": [
    {
     "name": "stderr",
     "output_type": "stream",
     "text": [
      "/opt/anaconda3/envs/ai_dev/lib/python3.10/site-packages/keras/src/layers/core/dense.py:87: UserWarning: Do not pass an `input_shape`/`input_dim` argument to a layer. When using Sequential models, prefer using an `Input(shape)` object as the first layer in the model instead.\n",
      "  super().__init__(activity_regularizer=activity_regularizer, **kwargs)\n"
     ]
    },
    {
     "data": {
      "text/plain": [
       "11"
      ]
     },
     "execution_count": 9,
     "metadata": {},
     "output_type": "execute_result"
    }
   ],
   "source": [
    "# Create the Keras Sequential model\n",
    "nn_model = tf.keras.models.Sequential()\n",
    "\n",
    "# Define the the number of inputs (features) to the model\n",
    "input_features = len(X_train_scaled[0])\n",
    "\n",
    "# Add our first Dense layer, including the input layer\n",
    "nn_model.add(tf.keras.layers.Dense(units=2, activation=\"relu\", input_dim=input_features))\n",
    "\n",
    "# Review the number of features\n",
    "input_features"
   ]
  },
  {
   "cell_type": "code",
   "execution_count": 10,
   "metadata": {
    "id": "c_KXDLkF6q60"
   },
   "outputs": [],
   "source": [
    "# Define the number of hidden nodes for the first hidden layer\n",
    "hidden_nodes_layer1 = 6    #took 6 because the starter file showed expected nodes to be 6\n",
    "\n",
    "# Define the number of hidden nodes for the second hidden layer\n",
    "hidden_nodes_layer2 = 3    #took 3 because the starter file showed expected nodes to be 6\n",
    "\n",
    "# Define the number of neurons in the output layer\n",
    "neurons_output_layer = 1"
   ]
  },
  {
   "cell_type": "code",
   "execution_count": 11,
   "metadata": {
    "id": "63UdFncw6q60"
   },
   "outputs": [],
   "source": [
    "# Create the Sequential model instance\n",
    "nn = Sequential()\n",
    "\n",
    "# Add the first hidden layer\n",
    "nn.add(\n",
    "    tf.keras.layers.Dense(units=hidden_nodes_layer1, input_dim=input_features, activation=\"relu\")\n",
    ")\n",
    "\n",
    "# Add the second hidden layer\n",
    "nn.add(tf.keras.layers.Dense(units=hidden_nodes_layer2, activation=\"relu\"))\n",
    "\n",
    "# Add the output layer to the model specifying the number of output neurons and activation function\n",
    "nn.add(tf.keras.layers.Dense(units=neurons_output_layer, activation=\"sigmoid\"))"
   ]
  },
  {
   "cell_type": "code",
   "execution_count": 13,
   "metadata": {
    "colab": {
     "base_uri": "https://localhost:8080/"
    },
    "id": "-Beoh4f_6q61",
    "outputId": "2e50f810-086b-4d89-bf7d-98afbe0d649d"
   },
   "outputs": [
    {
     "data": {
      "text/html": [
       "<pre style=\"white-space:pre;overflow-x:auto;line-height:normal;font-family:Menlo,'DejaVu Sans Mono',consolas,'Courier New',monospace\"><span style=\"font-weight: bold\">Model: \"sequential_1\"</span>\n",
       "</pre>\n"
      ],
      "text/plain": [
       "\u001b[1mModel: \"sequential_1\"\u001b[0m\n"
      ]
     },
     "metadata": {},
     "output_type": "display_data"
    },
    {
     "data": {
      "text/html": [
       "<pre style=\"white-space:pre;overflow-x:auto;line-height:normal;font-family:Menlo,'DejaVu Sans Mono',consolas,'Courier New',monospace\">┏━━━━━━━━━━━━━━━━━━━━━━━━━━━━━━━━━┳━━━━━━━━━━━━━━━━━━━━━━━━┳━━━━━━━━━━━━━━━┓\n",
       "┃<span style=\"font-weight: bold\"> Layer (type)                    </span>┃<span style=\"font-weight: bold\"> Output Shape           </span>┃<span style=\"font-weight: bold\">       Param # </span>┃\n",
       "┡━━━━━━━━━━━━━━━━━━━━━━━━━━━━━━━━━╇━━━━━━━━━━━━━━━━━━━━━━━━╇━━━━━━━━━━━━━━━┩\n",
       "│ dense_1 (<span style=\"color: #0087ff; text-decoration-color: #0087ff\">Dense</span>)                 │ (<span style=\"color: #00d7ff; text-decoration-color: #00d7ff\">None</span>, <span style=\"color: #00af00; text-decoration-color: #00af00\">6</span>)              │            <span style=\"color: #00af00; text-decoration-color: #00af00\">72</span> │\n",
       "├─────────────────────────────────┼────────────────────────┼───────────────┤\n",
       "│ dense_2 (<span style=\"color: #0087ff; text-decoration-color: #0087ff\">Dense</span>)                 │ (<span style=\"color: #00d7ff; text-decoration-color: #00d7ff\">None</span>, <span style=\"color: #00af00; text-decoration-color: #00af00\">3</span>)              │            <span style=\"color: #00af00; text-decoration-color: #00af00\">21</span> │\n",
       "├─────────────────────────────────┼────────────────────────┼───────────────┤\n",
       "│ dense_3 (<span style=\"color: #0087ff; text-decoration-color: #0087ff\">Dense</span>)                 │ (<span style=\"color: #00d7ff; text-decoration-color: #00d7ff\">None</span>, <span style=\"color: #00af00; text-decoration-color: #00af00\">1</span>)              │             <span style=\"color: #00af00; text-decoration-color: #00af00\">4</span> │\n",
       "└─────────────────────────────────┴────────────────────────┴───────────────┘\n",
       "</pre>\n"
      ],
      "text/plain": [
       "┏━━━━━━━━━━━━━━━━━━━━━━━━━━━━━━━━━┳━━━━━━━━━━━━━━━━━━━━━━━━┳━━━━━━━━━━━━━━━┓\n",
       "┃\u001b[1m \u001b[0m\u001b[1mLayer (type)                   \u001b[0m\u001b[1m \u001b[0m┃\u001b[1m \u001b[0m\u001b[1mOutput Shape          \u001b[0m\u001b[1m \u001b[0m┃\u001b[1m \u001b[0m\u001b[1m      Param #\u001b[0m\u001b[1m \u001b[0m┃\n",
       "┡━━━━━━━━━━━━━━━━━━━━━━━━━━━━━━━━━╇━━━━━━━━━━━━━━━━━━━━━━━━╇━━━━━━━━━━━━━━━┩\n",
       "│ dense_1 (\u001b[38;5;33mDense\u001b[0m)                 │ (\u001b[38;5;45mNone\u001b[0m, \u001b[38;5;34m6\u001b[0m)              │            \u001b[38;5;34m72\u001b[0m │\n",
       "├─────────────────────────────────┼────────────────────────┼───────────────┤\n",
       "│ dense_2 (\u001b[38;5;33mDense\u001b[0m)                 │ (\u001b[38;5;45mNone\u001b[0m, \u001b[38;5;34m3\u001b[0m)              │            \u001b[38;5;34m21\u001b[0m │\n",
       "├─────────────────────────────────┼────────────────────────┼───────────────┤\n",
       "│ dense_3 (\u001b[38;5;33mDense\u001b[0m)                 │ (\u001b[38;5;45mNone\u001b[0m, \u001b[38;5;34m1\u001b[0m)              │             \u001b[38;5;34m4\u001b[0m │\n",
       "└─────────────────────────────────┴────────────────────────┴───────────────┘\n"
      ]
     },
     "metadata": {},
     "output_type": "display_data"
    },
    {
     "data": {
      "text/html": [
       "<pre style=\"white-space:pre;overflow-x:auto;line-height:normal;font-family:Menlo,'DejaVu Sans Mono',consolas,'Courier New',monospace\"><span style=\"font-weight: bold\"> Total params: </span><span style=\"color: #00af00; text-decoration-color: #00af00\">97</span> (388.00 B)\n",
       "</pre>\n"
      ],
      "text/plain": [
       "\u001b[1m Total params: \u001b[0m\u001b[38;5;34m97\u001b[0m (388.00 B)\n"
      ]
     },
     "metadata": {},
     "output_type": "display_data"
    },
    {
     "data": {
      "text/html": [
       "<pre style=\"white-space:pre;overflow-x:auto;line-height:normal;font-family:Menlo,'DejaVu Sans Mono',consolas,'Courier New',monospace\"><span style=\"font-weight: bold\"> Trainable params: </span><span style=\"color: #00af00; text-decoration-color: #00af00\">97</span> (388.00 B)\n",
       "</pre>\n"
      ],
      "text/plain": [
       "\u001b[1m Trainable params: \u001b[0m\u001b[38;5;34m97\u001b[0m (388.00 B)\n"
      ]
     },
     "metadata": {},
     "output_type": "display_data"
    },
    {
     "data": {
      "text/html": [
       "<pre style=\"white-space:pre;overflow-x:auto;line-height:normal;font-family:Menlo,'DejaVu Sans Mono',consolas,'Courier New',monospace\"><span style=\"font-weight: bold\"> Non-trainable params: </span><span style=\"color: #00af00; text-decoration-color: #00af00\">0</span> (0.00 B)\n",
       "</pre>\n"
      ],
      "text/plain": [
       "\u001b[1m Non-trainable params: \u001b[0m\u001b[38;5;34m0\u001b[0m (0.00 B)\n"
      ]
     },
     "metadata": {},
     "output_type": "display_data"
    }
   ],
   "source": [
    "# Display the Sequential model summary\n",
    "nn.summary()"
   ]
  },
  {
   "cell_type": "code",
   "execution_count": 12,
   "metadata": {
    "colab": {
     "base_uri": "https://localhost:8080/"
    },
    "id": "-Beoh4f_6q61",
    "outputId": "2e50f810-086b-4d89-bf7d-98afbe0d649d"
   },
   "outputs": [
    {
     "name": "stdout",
     "output_type": "stream",
     "text": [
      "Model: \"sequential\"\n",
      "_________________________________________________________________\n",
      " Layer (type)                Output Shape              Param #   \n",
      "=================================================================\n",
      " dense (Dense)               (None, 6)                 72        \n",
      "                                                                 \n",
      " dense_1 (Dense)             (None, 3)                 21        \n",
      "                                                                 \n",
      " dense_2 (Dense)             (None, 1)                 4         \n",
      "                                                                 \n",
      "=================================================================\n",
      "Total params: 97 (388.00 Byte)\n",
      "Trainable params: 97 (388.00 Byte)\n",
      "Non-trainable params: 0 (0.00 Byte)\n",
      "_________________________________________________________________\n"
     ]
    }
   ],
   "source": [
    "# Display the Sequential model summary\n"
   ]
  },
  {
   "cell_type": "markdown",
   "metadata": {
    "id": "nRqWGIRo6q61"
   },
   "source": [
    "### Step 2: Compile and fit the model using the `binary_crossentropy` loss function, the `adam` optimizer, and the `accuracy` evaluation metric.\n"
   ]
  },
  {
   "cell_type": "code",
   "execution_count": 14,
   "metadata": {
    "id": "E-hZaeSn6q61"
   },
   "outputs": [],
   "source": [
    "# Compile the Sequential model\n",
    "nn.compile(loss=\"binary_crossentropy\", optimizer=\"adam\", metrics=[\"accuracy\"])"
   ]
  },
  {
   "cell_type": "code",
   "execution_count": 15,
   "metadata": {
    "colab": {
     "base_uri": "https://localhost:8080/"
    },
    "id": "x25e8Idc6q61",
    "outputId": "e95946ba-23da-47a3-a1c1-5e9a2a484a47"
   },
   "outputs": [
    {
     "name": "stdout",
     "output_type": "stream",
     "text": [
      "Epoch 1/50\n",
      "\u001b[1m38/38\u001b[0m \u001b[32m━━━━━━━━━━━━━━━━━━━━\u001b[0m\u001b[37m\u001b[0m \u001b[1m0s\u001b[0m 496us/step - accuracy: 0.4153 - loss: 0.7259\n",
      "Epoch 2/50\n",
      "\u001b[1m38/38\u001b[0m \u001b[32m━━━━━━━━━━━━━━━━━━━━\u001b[0m\u001b[37m\u001b[0m \u001b[1m0s\u001b[0m 451us/step - accuracy: 0.4471 - loss: 0.7147\n",
      "Epoch 3/50\n",
      "\u001b[1m38/38\u001b[0m \u001b[32m━━━━━━━━━━━━━━━━━━━━\u001b[0m\u001b[37m\u001b[0m \u001b[1m0s\u001b[0m 393us/step - accuracy: 0.5090 - loss: 0.7008\n",
      "Epoch 4/50\n",
      "\u001b[1m38/38\u001b[0m \u001b[32m━━━━━━━━━━━━━━━━━━━━\u001b[0m\u001b[37m\u001b[0m \u001b[1m0s\u001b[0m 328us/step - accuracy: 0.5404 - loss: 0.6956\n",
      "Epoch 5/50\n",
      "\u001b[1m38/38\u001b[0m \u001b[32m━━━━━━━━━━━━━━━━━━━━\u001b[0m\u001b[37m\u001b[0m \u001b[1m0s\u001b[0m 314us/step - accuracy: 0.5453 - loss: 0.6866\n",
      "Epoch 6/50\n",
      "\u001b[1m38/38\u001b[0m \u001b[32m━━━━━━━━━━━━━━━━━━━━\u001b[0m\u001b[37m\u001b[0m \u001b[1m0s\u001b[0m 337us/step - accuracy: 0.6011 - loss: 0.6733\n",
      "Epoch 7/50\n",
      "\u001b[1m38/38\u001b[0m \u001b[32m━━━━━━━━━━━━━━━━━━━━\u001b[0m\u001b[37m\u001b[0m \u001b[1m0s\u001b[0m 314us/step - accuracy: 0.5914 - loss: 0.6623\n",
      "Epoch 8/50\n",
      "\u001b[1m38/38\u001b[0m \u001b[32m━━━━━━━━━━━━━━━━━━━━\u001b[0m\u001b[37m\u001b[0m \u001b[1m0s\u001b[0m 309us/step - accuracy: 0.6003 - loss: 0.6482\n",
      "Epoch 9/50\n",
      "\u001b[1m38/38\u001b[0m \u001b[32m━━━━━━━━━━━━━━━━━━━━\u001b[0m\u001b[37m\u001b[0m \u001b[1m0s\u001b[0m 300us/step - accuracy: 0.6462 - loss: 0.6195\n",
      "Epoch 10/50\n",
      "\u001b[1m38/38\u001b[0m \u001b[32m━━━━━━━━━━━━━━━━━━━━\u001b[0m\u001b[37m\u001b[0m \u001b[1m0s\u001b[0m 318us/step - accuracy: 0.6579 - loss: 0.5918\n",
      "Epoch 11/50\n",
      "\u001b[1m38/38\u001b[0m \u001b[32m━━━━━━━━━━━━━━━━━━━━\u001b[0m\u001b[37m\u001b[0m \u001b[1m0s\u001b[0m 316us/step - accuracy: 0.6569 - loss: 0.5838\n",
      "Epoch 12/50\n",
      "\u001b[1m38/38\u001b[0m \u001b[32m━━━━━━━━━━━━━━━━━━━━\u001b[0m\u001b[37m\u001b[0m \u001b[1m0s\u001b[0m 306us/step - accuracy: 0.6938 - loss: 0.5693\n",
      "Epoch 13/50\n",
      "\u001b[1m38/38\u001b[0m \u001b[32m━━━━━━━━━━━━━━━━━━━━\u001b[0m\u001b[37m\u001b[0m \u001b[1m0s\u001b[0m 306us/step - accuracy: 0.7121 - loss: 0.5422\n",
      "Epoch 14/50\n",
      "\u001b[1m38/38\u001b[0m \u001b[32m━━━━━━━━━━━━━━━━━━━━\u001b[0m\u001b[37m\u001b[0m \u001b[1m0s\u001b[0m 334us/step - accuracy: 0.7230 - loss: 0.5540\n",
      "Epoch 15/50\n",
      "\u001b[1m38/38\u001b[0m \u001b[32m━━━━━━━━━━━━━━━━━━━━\u001b[0m\u001b[37m\u001b[0m \u001b[1m0s\u001b[0m 320us/step - accuracy: 0.7265 - loss: 0.5436\n",
      "Epoch 16/50\n",
      "\u001b[1m38/38\u001b[0m \u001b[32m━━━━━━━━━━━━━━━━━━━━\u001b[0m\u001b[37m\u001b[0m \u001b[1m0s\u001b[0m 321us/step - accuracy: 0.7373 - loss: 0.5261\n",
      "Epoch 17/50\n",
      "\u001b[1m38/38\u001b[0m \u001b[32m━━━━━━━━━━━━━━━━━━━━\u001b[0m\u001b[37m\u001b[0m \u001b[1m0s\u001b[0m 300us/step - accuracy: 0.7353 - loss: 0.5339\n",
      "Epoch 18/50\n",
      "\u001b[1m38/38\u001b[0m \u001b[32m━━━━━━━━━━━━━━━━━━━━\u001b[0m\u001b[37m\u001b[0m \u001b[1m0s\u001b[0m 331us/step - accuracy: 0.7483 - loss: 0.5194\n",
      "Epoch 19/50\n",
      "\u001b[1m38/38\u001b[0m \u001b[32m━━━━━━━━━━━━━━━━━━━━\u001b[0m\u001b[37m\u001b[0m \u001b[1m0s\u001b[0m 308us/step - accuracy: 0.7608 - loss: 0.5094\n",
      "Epoch 20/50\n",
      "\u001b[1m38/38\u001b[0m \u001b[32m━━━━━━━━━━━━━━━━━━━━\u001b[0m\u001b[37m\u001b[0m \u001b[1m0s\u001b[0m 311us/step - accuracy: 0.7184 - loss: 0.5271\n",
      "Epoch 21/50\n",
      "\u001b[1m38/38\u001b[0m \u001b[32m━━━━━━━━━━━━━━━━━━━━\u001b[0m\u001b[37m\u001b[0m \u001b[1m0s\u001b[0m 319us/step - accuracy: 0.7221 - loss: 0.5351\n",
      "Epoch 22/50\n",
      "\u001b[1m38/38\u001b[0m \u001b[32m━━━━━━━━━━━━━━━━━━━━\u001b[0m\u001b[37m\u001b[0m \u001b[1m0s\u001b[0m 305us/step - accuracy: 0.7368 - loss: 0.5280\n",
      "Epoch 23/50\n",
      "\u001b[1m38/38\u001b[0m \u001b[32m━━━━━━━━━━━━━━━━━━━━\u001b[0m\u001b[37m\u001b[0m \u001b[1m0s\u001b[0m 326us/step - accuracy: 0.7379 - loss: 0.5250\n",
      "Epoch 24/50\n",
      "\u001b[1m38/38\u001b[0m \u001b[32m━━━━━━━━━━━━━━━━━━━━\u001b[0m\u001b[37m\u001b[0m \u001b[1m0s\u001b[0m 301us/step - accuracy: 0.7441 - loss: 0.5261\n",
      "Epoch 25/50\n",
      "\u001b[1m38/38\u001b[0m \u001b[32m━━━━━━━━━━━━━━━━━━━━\u001b[0m\u001b[37m\u001b[0m \u001b[1m0s\u001b[0m 303us/step - accuracy: 0.7623 - loss: 0.5037\n",
      "Epoch 26/50\n",
      "\u001b[1m38/38\u001b[0m \u001b[32m━━━━━━━━━━━━━━━━━━━━\u001b[0m\u001b[37m\u001b[0m \u001b[1m0s\u001b[0m 306us/step - accuracy: 0.7550 - loss: 0.5119\n",
      "Epoch 27/50\n",
      "\u001b[1m38/38\u001b[0m \u001b[32m━━━━━━━━━━━━━━━━━━━━\u001b[0m\u001b[37m\u001b[0m \u001b[1m0s\u001b[0m 325us/step - accuracy: 0.7301 - loss: 0.5228\n",
      "Epoch 28/50\n",
      "\u001b[1m38/38\u001b[0m \u001b[32m━━━━━━━━━━━━━━━━━━━━\u001b[0m\u001b[37m\u001b[0m \u001b[1m0s\u001b[0m 292us/step - accuracy: 0.7456 - loss: 0.5150\n",
      "Epoch 29/50\n",
      "\u001b[1m38/38\u001b[0m \u001b[32m━━━━━━━━━━━━━━━━━━━━\u001b[0m\u001b[37m\u001b[0m \u001b[1m0s\u001b[0m 317us/step - accuracy: 0.7299 - loss: 0.5166\n",
      "Epoch 30/50\n",
      "\u001b[1m38/38\u001b[0m \u001b[32m━━━━━━━━━━━━━━━━━━━━\u001b[0m\u001b[37m\u001b[0m \u001b[1m0s\u001b[0m 304us/step - accuracy: 0.7337 - loss: 0.5157\n",
      "Epoch 31/50\n",
      "\u001b[1m38/38\u001b[0m \u001b[32m━━━━━━━━━━━━━━━━━━━━\u001b[0m\u001b[37m\u001b[0m \u001b[1m0s\u001b[0m 308us/step - accuracy: 0.7373 - loss: 0.5167\n",
      "Epoch 32/50\n",
      "\u001b[1m38/38\u001b[0m \u001b[32m━━━━━━━━━━━━━━━━━━━━\u001b[0m\u001b[37m\u001b[0m \u001b[1m0s\u001b[0m 325us/step - accuracy: 0.7383 - loss: 0.5324\n",
      "Epoch 33/50\n",
      "\u001b[1m38/38\u001b[0m \u001b[32m━━━━━━━━━━━━━━━━━━━━\u001b[0m\u001b[37m\u001b[0m \u001b[1m0s\u001b[0m 309us/step - accuracy: 0.7327 - loss: 0.5210\n",
      "Epoch 34/50\n",
      "\u001b[1m38/38\u001b[0m \u001b[32m━━━━━━━━━━━━━━━━━━━━\u001b[0m\u001b[37m\u001b[0m \u001b[1m0s\u001b[0m 321us/step - accuracy: 0.7471 - loss: 0.5177\n",
      "Epoch 35/50\n",
      "\u001b[1m38/38\u001b[0m \u001b[32m━━━━━━━━━━━━━━━━━━━━\u001b[0m\u001b[37m\u001b[0m \u001b[1m0s\u001b[0m 340us/step - accuracy: 0.7466 - loss: 0.5095\n",
      "Epoch 36/50\n",
      "\u001b[1m38/38\u001b[0m \u001b[32m━━━━━━━━━━━━━━━━━━━━\u001b[0m\u001b[37m\u001b[0m \u001b[1m0s\u001b[0m 319us/step - accuracy: 0.7458 - loss: 0.4934\n",
      "Epoch 37/50\n",
      "\u001b[1m38/38\u001b[0m \u001b[32m━━━━━━━━━━━━━━━━━━━━\u001b[0m\u001b[37m\u001b[0m \u001b[1m0s\u001b[0m 319us/step - accuracy: 0.7258 - loss: 0.5257\n",
      "Epoch 38/50\n",
      "\u001b[1m38/38\u001b[0m \u001b[32m━━━━━━━━━━━━━━━━━━━━\u001b[0m\u001b[37m\u001b[0m \u001b[1m0s\u001b[0m 595us/step - accuracy: 0.7470 - loss: 0.5152\n",
      "Epoch 39/50\n",
      "\u001b[1m38/38\u001b[0m \u001b[32m━━━━━━━━━━━━━━━━━━━━\u001b[0m\u001b[37m\u001b[0m \u001b[1m0s\u001b[0m 556us/step - accuracy: 0.7532 - loss: 0.4914\n",
      "Epoch 40/50\n",
      "\u001b[1m38/38\u001b[0m \u001b[32m━━━━━━━━━━━━━━━━━━━━\u001b[0m\u001b[37m\u001b[0m \u001b[1m0s\u001b[0m 335us/step - accuracy: 0.7300 - loss: 0.5292\n",
      "Epoch 41/50\n",
      "\u001b[1m38/38\u001b[0m \u001b[32m━━━━━━━━━━━━━━━━━━━━\u001b[0m\u001b[37m\u001b[0m \u001b[1m0s\u001b[0m 330us/step - accuracy: 0.7484 - loss: 0.5135\n",
      "Epoch 42/50\n",
      "\u001b[1m38/38\u001b[0m \u001b[32m━━━━━━━━━━━━━━━━━━━━\u001b[0m\u001b[37m\u001b[0m \u001b[1m0s\u001b[0m 325us/step - accuracy: 0.7340 - loss: 0.5234\n",
      "Epoch 43/50\n",
      "\u001b[1m38/38\u001b[0m \u001b[32m━━━━━━━━━━━━━━━━━━━━\u001b[0m\u001b[37m\u001b[0m \u001b[1m0s\u001b[0m 300us/step - accuracy: 0.7190 - loss: 0.5200\n",
      "Epoch 44/50\n",
      "\u001b[1m38/38\u001b[0m \u001b[32m━━━━━━━━━━━━━━━━━━━━\u001b[0m\u001b[37m\u001b[0m \u001b[1m0s\u001b[0m 287us/step - accuracy: 0.7426 - loss: 0.5077\n",
      "Epoch 45/50\n",
      "\u001b[1m38/38\u001b[0m \u001b[32m━━━━━━━━━━━━━━━━━━━━\u001b[0m\u001b[37m\u001b[0m \u001b[1m0s\u001b[0m 304us/step - accuracy: 0.7551 - loss: 0.5052\n",
      "Epoch 46/50\n",
      "\u001b[1m38/38\u001b[0m \u001b[32m━━━━━━━━━━━━━━━━━━━━\u001b[0m\u001b[37m\u001b[0m \u001b[1m0s\u001b[0m 325us/step - accuracy: 0.7639 - loss: 0.4887\n",
      "Epoch 47/50\n",
      "\u001b[1m38/38\u001b[0m \u001b[32m━━━━━━━━━━━━━━━━━━━━\u001b[0m\u001b[37m\u001b[0m \u001b[1m0s\u001b[0m 300us/step - accuracy: 0.7355 - loss: 0.5136\n",
      "Epoch 48/50\n",
      "\u001b[1m38/38\u001b[0m \u001b[32m━━━━━━━━━━━━━━━━━━━━\u001b[0m\u001b[37m\u001b[0m \u001b[1m0s\u001b[0m 327us/step - accuracy: 0.7505 - loss: 0.4998\n",
      "Epoch 49/50\n",
      "\u001b[1m38/38\u001b[0m \u001b[32m━━━━━━━━━━━━━━━━━━━━\u001b[0m\u001b[37m\u001b[0m \u001b[1m0s\u001b[0m 326us/step - accuracy: 0.7417 - loss: 0.5092\n",
      "Epoch 50/50\n",
      "\u001b[1m38/38\u001b[0m \u001b[32m━━━━━━━━━━━━━━━━━━━━\u001b[0m\u001b[37m\u001b[0m \u001b[1m0s\u001b[0m 302us/step - accuracy: 0.7538 - loss: 0.4860\n"
     ]
    }
   ],
   "source": [
    "# Fit the model using 50 epochs and the training data\n",
    "fit_model = nn.fit(X_train_scaled,y_train,epochs=50)"
   ]
  },
  {
   "cell_type": "code",
   "execution_count": 14,
   "metadata": {
    "colab": {
     "base_uri": "https://localhost:8080/"
    },
    "id": "x25e8Idc6q61",
    "outputId": "e95946ba-23da-47a3-a1c1-5e9a2a484a47"
   },
   "outputs": [
    {
     "name": "stdout",
     "output_type": "stream",
     "text": [
      "Epoch 1/50\n",
      "38/38 [==============================] - 3s 5ms/step - loss: 0.6736 - accuracy: 0.5696\n",
      "Epoch 2/50\n",
      "38/38 [==============================] - 0s 5ms/step - loss: 0.6642 - accuracy: 0.6397\n",
      "Epoch 3/50\n",
      "38/38 [==============================] - 0s 6ms/step - loss: 0.6551 - accuracy: 0.6814\n",
      "Epoch 4/50\n",
      "38/38 [==============================] - 0s 6ms/step - loss: 0.6467 - accuracy: 0.6939\n",
      "Epoch 5/50\n",
      "38/38 [==============================] - 0s 5ms/step - loss: 0.6390 - accuracy: 0.6989\n",
      "Epoch 6/50\n",
      "38/38 [==============================] - 0s 4ms/step - loss: 0.6319 - accuracy: 0.7098\n",
      "Epoch 7/50\n",
      "38/38 [==============================] - 0s 4ms/step - loss: 0.6255 - accuracy: 0.7173\n",
      "Epoch 8/50\n",
      "38/38 [==============================] - 0s 4ms/step - loss: 0.6193 - accuracy: 0.7164\n",
      "Epoch 9/50\n",
      "38/38 [==============================] - 0s 4ms/step - loss: 0.6139 - accuracy: 0.7231\n",
      "Epoch 10/50\n",
      "38/38 [==============================] - 0s 4ms/step - loss: 0.6084 - accuracy: 0.7281\n",
      "Epoch 11/50\n",
      "38/38 [==============================] - 0s 3ms/step - loss: 0.6038 - accuracy: 0.7323\n",
      "Epoch 12/50\n",
      "38/38 [==============================] - 0s 3ms/step - loss: 0.5989 - accuracy: 0.7339\n",
      "Epoch 13/50\n",
      "38/38 [==============================] - 0s 4ms/step - loss: 0.5948 - accuracy: 0.7356\n",
      "Epoch 14/50\n",
      "38/38 [==============================] - 0s 9ms/step - loss: 0.5910 - accuracy: 0.7381\n",
      "Epoch 15/50\n",
      "38/38 [==============================] - 0s 11ms/step - loss: 0.5874 - accuracy: 0.7364\n",
      "Epoch 16/50\n",
      "38/38 [==============================] - 0s 5ms/step - loss: 0.5835 - accuracy: 0.7381\n",
      "Epoch 17/50\n",
      "38/38 [==============================] - 0s 5ms/step - loss: 0.5801 - accuracy: 0.7398\n",
      "Epoch 18/50\n",
      "38/38 [==============================] - 0s 6ms/step - loss: 0.5768 - accuracy: 0.7406\n",
      "Epoch 19/50\n",
      "38/38 [==============================] - 0s 6ms/step - loss: 0.5738 - accuracy: 0.7398\n",
      "Epoch 20/50\n",
      "38/38 [==============================] - 0s 3ms/step - loss: 0.5704 - accuracy: 0.7406\n",
      "Epoch 21/50\n",
      "38/38 [==============================] - 0s 3ms/step - loss: 0.5674 - accuracy: 0.7398\n",
      "Epoch 22/50\n",
      "38/38 [==============================] - 0s 4ms/step - loss: 0.5647 - accuracy: 0.7415\n",
      "Epoch 23/50\n",
      "38/38 [==============================] - 0s 5ms/step - loss: 0.5619 - accuracy: 0.7440\n",
      "Epoch 24/50\n",
      "38/38 [==============================] - 0s 5ms/step - loss: 0.5594 - accuracy: 0.7440\n",
      "Epoch 25/50\n",
      "38/38 [==============================] - 0s 5ms/step - loss: 0.5572 - accuracy: 0.7440\n",
      "Epoch 26/50\n",
      "38/38 [==============================] - 0s 5ms/step - loss: 0.5551 - accuracy: 0.7473\n",
      "Epoch 27/50\n",
      "38/38 [==============================] - 0s 4ms/step - loss: 0.5530 - accuracy: 0.7473\n",
      "Epoch 28/50\n",
      "38/38 [==============================] - 0s 2ms/step - loss: 0.5513 - accuracy: 0.7481\n",
      "Epoch 29/50\n",
      "38/38 [==============================] - 0s 2ms/step - loss: 0.5488 - accuracy: 0.7515\n",
      "Epoch 30/50\n",
      "38/38 [==============================] - 0s 2ms/step - loss: 0.5466 - accuracy: 0.7548\n",
      "Epoch 31/50\n",
      "38/38 [==============================] - 0s 2ms/step - loss: 0.5440 - accuracy: 0.7556\n",
      "Epoch 32/50\n",
      "38/38 [==============================] - 0s 2ms/step - loss: 0.5412 - accuracy: 0.7590\n",
      "Epoch 33/50\n",
      "38/38 [==============================] - 0s 2ms/step - loss: 0.5374 - accuracy: 0.7565\n",
      "Epoch 34/50\n",
      "38/38 [==============================] - 0s 2ms/step - loss: 0.5334 - accuracy: 0.7615\n",
      "Epoch 35/50\n",
      "38/38 [==============================] - 0s 2ms/step - loss: 0.5288 - accuracy: 0.7615\n",
      "Epoch 36/50\n",
      "38/38 [==============================] - 0s 2ms/step - loss: 0.5245 - accuracy: 0.7631\n",
      "Epoch 37/50\n",
      "38/38 [==============================] - 0s 2ms/step - loss: 0.5204 - accuracy: 0.7623\n",
      "Epoch 38/50\n",
      "38/38 [==============================] - 0s 2ms/step - loss: 0.5176 - accuracy: 0.7606\n",
      "Epoch 39/50\n",
      "38/38 [==============================] - 0s 2ms/step - loss: 0.5146 - accuracy: 0.7640\n",
      "Epoch 40/50\n",
      "38/38 [==============================] - 0s 2ms/step - loss: 0.5119 - accuracy: 0.7606\n",
      "Epoch 41/50\n",
      "38/38 [==============================] - 0s 2ms/step - loss: 0.5100 - accuracy: 0.7581\n",
      "Epoch 42/50\n",
      "38/38 [==============================] - 0s 2ms/step - loss: 0.5081 - accuracy: 0.7556\n",
      "Epoch 43/50\n",
      "38/38 [==============================] - 0s 2ms/step - loss: 0.5065 - accuracy: 0.7565\n",
      "Epoch 44/50\n",
      "38/38 [==============================] - 0s 2ms/step - loss: 0.5043 - accuracy: 0.7573\n",
      "Epoch 45/50\n",
      "38/38 [==============================] - 0s 2ms/step - loss: 0.5029 - accuracy: 0.7581\n",
      "Epoch 46/50\n",
      "38/38 [==============================] - 0s 3ms/step - loss: 0.5013 - accuracy: 0.7590\n",
      "Epoch 47/50\n",
      "38/38 [==============================] - 0s 2ms/step - loss: 0.4995 - accuracy: 0.7606\n",
      "Epoch 48/50\n",
      "38/38 [==============================] - 0s 2ms/step - loss: 0.4980 - accuracy: 0.7606\n",
      "Epoch 49/50\n",
      "38/38 [==============================] - 0s 2ms/step - loss: 0.4968 - accuracy: 0.7581\n",
      "Epoch 50/50\n",
      "38/38 [==============================] - 0s 2ms/step - loss: 0.4947 - accuracy: 0.7598\n"
     ]
    }
   ],
   "source": [
    "# Fit the model using 50 epochs and the training data\n"
   ]
  },
  {
   "cell_type": "markdown",
   "metadata": {
    "id": "RfHMPZVI6q61"
   },
   "source": [
    "### Step 3: Evaluate the model using the test data to determine the model’s loss and accuracy.\n"
   ]
  },
  {
   "cell_type": "code",
   "execution_count": 16,
   "metadata": {
    "colab": {
     "base_uri": "https://localhost:8080/"
    },
    "id": "5hfVADKo6q61",
    "outputId": "7df473ad-3301-4b49-e5c3-16e1687cc1cf"
   },
   "outputs": [
    {
     "name": "stdout",
     "output_type": "stream",
     "text": [
      "13/13 - 0s - 4ms/step - accuracy: 0.7450 - loss: 0.5155\n",
      "Loss: 0.5154650211334229, Accuracy: 0.7450000047683716\n"
     ]
    }
   ],
   "source": [
    "# Evaluate the model loss and accuracy metrics using the evaluate method and the test data\n",
    "model_loss, model_accuracy = nn.evaluate(X_test_scaled,y_test,verbose=2)\n",
    "\n",
    "# Display the model loss and accuracy results\n",
    "print(f\"Loss: {model_loss}, Accuracy: {model_accuracy}\")"
   ]
  },
  {
   "cell_type": "code",
   "execution_count": 15,
   "metadata": {
    "colab": {
     "base_uri": "https://localhost:8080/"
    },
    "id": "5hfVADKo6q61",
    "outputId": "7df473ad-3301-4b49-e5c3-16e1687cc1cf"
   },
   "outputs": [
    {
     "name": "stdout",
     "output_type": "stream",
     "text": [
      "13/13 - 0s - loss: 0.5049 - accuracy: 0.7350 - 175ms/epoch - 13ms/step\n",
      "Loss: 0.5049149394035339, Accuracy: 0.7350000143051147\n"
     ]
    }
   ],
   "source": [
    "# Evaluate the model loss and accuracy metrics using the evaluate method and the test data\n",
    "\n",
    "\n",
    "# Display the model loss and accuracy results\n"
   ]
  },
  {
   "cell_type": "markdown",
   "metadata": {
    "id": "jpAv0rXA6q61"
   },
   "source": [
    "### Step 4: Save and export your model to a keras file, and name the file `student_loans.keras`.\n"
   ]
  },
  {
   "cell_type": "code",
   "execution_count": 18,
   "metadata": {
    "id": "q0MetN0W6q61"
   },
   "outputs": [],
   "source": [
    "# Set the model's file path\n",
    "file_path = Path(\"saved_models/student_loans.keras\")\n",
    "\n",
    "# Export your model to a keras file\n",
    "nn.save(file_path)"
   ]
  },
  {
   "cell_type": "markdown",
   "metadata": {
    "id": "R1opCDdN6q61"
   },
   "source": [
    "---\n",
    "## Predict Loan Repayment Success by Using your Neural Network Model"
   ]
  },
  {
   "cell_type": "markdown",
   "metadata": {
    "id": "TfIfpeiy6q61"
   },
   "source": [
    "### Step 1: Reload your saved model."
   ]
  },
  {
   "cell_type": "code",
   "execution_count": 19,
   "metadata": {
    "id": "OCET2mvW6q61"
   },
   "outputs": [],
   "source": [
    "# Set the model's file path\n",
    "file_path = Path(\"saved_models/student_loans.keras\")\n",
    "\n",
    "# Load the model to a new object\n",
    "nn_imported = tf.keras.models.load_model(file_path)"
   ]
  },
  {
   "cell_type": "markdown",
   "metadata": {
    "id": "rTPKooGw6q61"
   },
   "source": [
    "### Step 2: Make predictions on the testing data and save the predictions to a DataFrame."
   ]
  },
  {
   "cell_type": "code",
   "execution_count": 27,
   "metadata": {
    "colab": {
     "base_uri": "https://localhost:8080/"
    },
    "id": "Vet7qjgx6q62",
    "outputId": "0925af42-7e12-4978-8396-2a2c1580e1eb"
   },
   "outputs": [
    {
     "name": "stdout",
     "output_type": "stream",
     "text": [
      "13/13 - 0s - 3ms/step\n"
     ]
    },
    {
     "data": {
      "text/plain": [
       "array([[0.6485089 ],\n",
       "       [0.21216945],\n",
       "       [0.79275507],\n",
       "       [0.6658372 ],\n",
       "       [0.9656216 ],\n",
       "       [0.82551795],\n",
       "       [0.8902532 ],\n",
       "       [0.15172024],\n",
       "       [0.6589444 ],\n",
       "       [0.4449815 ],\n",
       "       [0.87594867],\n",
       "       [0.35535678],\n",
       "       [0.5026354 ],\n",
       "       [0.877607  ],\n",
       "       [0.49525177],\n",
       "       [0.27426493],\n",
       "       [0.8517365 ],\n",
       "       [0.38077787],\n",
       "       [0.58872867],\n",
       "       [0.449749  ],\n",
       "       [0.49256504],\n",
       "       [0.83978903],\n",
       "       [0.30522746],\n",
       "       [0.93230224],\n",
       "       [0.30390725],\n",
       "       [0.91058946],\n",
       "       [0.8081205 ],\n",
       "       [0.5295389 ],\n",
       "       [0.1468339 ],\n",
       "       [0.37132043],\n",
       "       [0.46802998],\n",
       "       [0.9197246 ],\n",
       "       [0.21389522],\n",
       "       [0.9008503 ],\n",
       "       [0.0893606 ],\n",
       "       [0.62487406],\n",
       "       [0.24436535],\n",
       "       [0.45093197],\n",
       "       [0.9186215 ],\n",
       "       [0.24479239],\n",
       "       [0.8615616 ],\n",
       "       [0.11326485],\n",
       "       [0.08454548],\n",
       "       [0.8612394 ],\n",
       "       [0.10034478],\n",
       "       [0.6189094 ],\n",
       "       [0.15858847],\n",
       "       [0.45357186],\n",
       "       [0.16760637],\n",
       "       [0.7644886 ],\n",
       "       [0.22051634],\n",
       "       [0.54358137],\n",
       "       [0.8758176 ],\n",
       "       [0.09250111],\n",
       "       [0.2340684 ],\n",
       "       [0.66861033],\n",
       "       [0.7684159 ],\n",
       "       [0.8093771 ],\n",
       "       [0.71991014],\n",
       "       [0.29187557],\n",
       "       [0.8779813 ],\n",
       "       [0.24125496],\n",
       "       [0.27878976],\n",
       "       [0.40204477],\n",
       "       [0.04267393],\n",
       "       [0.5694643 ],\n",
       "       [0.9500336 ],\n",
       "       [0.5159566 ],\n",
       "       [0.53807586],\n",
       "       [0.9335602 ],\n",
       "       [0.0893606 ],\n",
       "       [0.9414821 ],\n",
       "       [0.48564065],\n",
       "       [0.6014184 ],\n",
       "       [0.5654778 ],\n",
       "       [0.36125487],\n",
       "       [0.8723755 ],\n",
       "       [0.40467566],\n",
       "       [0.47987053],\n",
       "       [0.7175095 ],\n",
       "       [0.74079216],\n",
       "       [0.18094744],\n",
       "       [0.13109285],\n",
       "       [0.4429618 ],\n",
       "       [0.5013493 ],\n",
       "       [0.15311714],\n",
       "       [0.15887573],\n",
       "       [0.79548776],\n",
       "       [0.27070728],\n",
       "       [0.64317226],\n",
       "       [0.14162077],\n",
       "       [0.89263713],\n",
       "       [0.17969729],\n",
       "       [0.87008846],\n",
       "       [0.8551972 ],\n",
       "       [0.3693352 ],\n",
       "       [0.91176194],\n",
       "       [0.4238327 ],\n",
       "       [0.3787152 ],\n",
       "       [0.81069845],\n",
       "       [0.44790134],\n",
       "       [0.3993734 ],\n",
       "       [0.29598218],\n",
       "       [0.1865963 ],\n",
       "       [0.0451775 ],\n",
       "       [0.4117655 ],\n",
       "       [0.62912   ],\n",
       "       [0.32136306],\n",
       "       [0.7730213 ],\n",
       "       [0.889962  ],\n",
       "       [0.93153775],\n",
       "       [0.53939325],\n",
       "       [0.88499135],\n",
       "       [0.30713972],\n",
       "       [0.418479  ],\n",
       "       [0.96424204],\n",
       "       [0.21040684],\n",
       "       [0.07401308],\n",
       "       [0.20490307],\n",
       "       [0.14164145],\n",
       "       [0.17281018],\n",
       "       [0.95949435],\n",
       "       [0.941411  ],\n",
       "       [0.21027231],\n",
       "       [0.32075238],\n",
       "       [0.4393337 ],\n",
       "       [0.7559825 ],\n",
       "       [0.21836343],\n",
       "       [0.8225254 ],\n",
       "       [0.61980945],\n",
       "       [0.55389744],\n",
       "       [0.20407228],\n",
       "       [0.8880119 ],\n",
       "       [0.14768441],\n",
       "       [0.6846898 ],\n",
       "       [0.72997034],\n",
       "       [0.15850258],\n",
       "       [0.955259  ],\n",
       "       [0.2730641 ],\n",
       "       [0.2963888 ],\n",
       "       [0.26689357],\n",
       "       [0.40138134],\n",
       "       [0.5324601 ],\n",
       "       [0.38704354],\n",
       "       [0.7849329 ],\n",
       "       [0.9230032 ],\n",
       "       [0.6124149 ],\n",
       "       [0.05088758],\n",
       "       [0.6305711 ],\n",
       "       [0.7850126 ],\n",
       "       [0.43036216],\n",
       "       [0.93153906],\n",
       "       [0.30084676],\n",
       "       [0.22664633],\n",
       "       [0.7925815 ],\n",
       "       [0.87997836],\n",
       "       [0.89905983],\n",
       "       [0.9059023 ],\n",
       "       [0.7677208 ],\n",
       "       [0.5489327 ],\n",
       "       [0.83132374],\n",
       "       [0.5806843 ],\n",
       "       [0.3871799 ],\n",
       "       [0.16771507],\n",
       "       [0.9267535 ],\n",
       "       [0.7953701 ],\n",
       "       [0.5959624 ],\n",
       "       [0.14323507],\n",
       "       [0.18646184],\n",
       "       [0.74192315],\n",
       "       [0.25027117],\n",
       "       [0.78729427],\n",
       "       [0.15346754],\n",
       "       [0.26233926],\n",
       "       [0.9134506 ],\n",
       "       [0.34147048],\n",
       "       [0.29138187],\n",
       "       [0.07541382],\n",
       "       [0.3457979 ],\n",
       "       [0.3693352 ],\n",
       "       [0.62063116],\n",
       "       [0.83398235],\n",
       "       [0.67068344],\n",
       "       [0.51040876],\n",
       "       [0.92677367],\n",
       "       [0.9476057 ],\n",
       "       [0.92988336],\n",
       "       [0.53581107],\n",
       "       [0.26937917],\n",
       "       [0.09006996],\n",
       "       [0.23418395],\n",
       "       [0.62300736],\n",
       "       [0.35446495],\n",
       "       [0.28754637],\n",
       "       [0.77107084],\n",
       "       [0.2970683 ],\n",
       "       [0.6344612 ],\n",
       "       [0.37740195],\n",
       "       [0.49941564],\n",
       "       [0.24803464],\n",
       "       [0.895636  ],\n",
       "       [0.54054093],\n",
       "       [0.89280456],\n",
       "       [0.14375941],\n",
       "       [0.95165724],\n",
       "       [0.7342556 ],\n",
       "       [0.22680925],\n",
       "       [0.11840904],\n",
       "       [0.8975779 ],\n",
       "       [0.6410065 ],\n",
       "       [0.5212749 ],\n",
       "       [0.9080732 ],\n",
       "       [0.29598218],\n",
       "       [0.88447297],\n",
       "       [0.18670079],\n",
       "       [0.13929631],\n",
       "       [0.29340458],\n",
       "       [0.08983018],\n",
       "       [0.7646721 ],\n",
       "       [0.55506873],\n",
       "       [0.5686478 ],\n",
       "       [0.23684867],\n",
       "       [0.41505373],\n",
       "       [0.23296852],\n",
       "       [0.771372  ],\n",
       "       [0.64861083],\n",
       "       [0.38813603],\n",
       "       [0.5697985 ],\n",
       "       [0.95088905],\n",
       "       [0.610352  ],\n",
       "       [0.38702133],\n",
       "       [0.18022574],\n",
       "       [0.8847776 ],\n",
       "       [0.8877516 ],\n",
       "       [0.37315848],\n",
       "       [0.35872367],\n",
       "       [0.88386816],\n",
       "       [0.09269113],\n",
       "       [0.6167887 ],\n",
       "       [0.5466002 ],\n",
       "       [0.75171876],\n",
       "       [0.7602357 ],\n",
       "       [0.60248834],\n",
       "       [0.54506004],\n",
       "       [0.6150244 ],\n",
       "       [0.9485349 ],\n",
       "       [0.5878325 ],\n",
       "       [0.2353289 ],\n",
       "       [0.09223803],\n",
       "       [0.3835155 ],\n",
       "       [0.07332251],\n",
       "       [0.21391746],\n",
       "       [0.9689848 ],\n",
       "       [0.71326244],\n",
       "       [0.938184  ],\n",
       "       [0.31239325],\n",
       "       [0.26265073],\n",
       "       [0.1243971 ],\n",
       "       [0.28853458],\n",
       "       [0.76472753],\n",
       "       [0.7695212 ],\n",
       "       [0.5174318 ],\n",
       "       [0.6095835 ],\n",
       "       [0.25860196],\n",
       "       [0.2780648 ],\n",
       "       [0.6305711 ],\n",
       "       [0.58103794],\n",
       "       [0.1448943 ],\n",
       "       [0.07871744],\n",
       "       [0.85593253],\n",
       "       [0.4244076 ],\n",
       "       [0.63779896],\n",
       "       [0.20384483],\n",
       "       [0.92977375],\n",
       "       [0.09739761],\n",
       "       [0.5573379 ],\n",
       "       [0.41461432],\n",
       "       [0.78729427],\n",
       "       [0.3134168 ],\n",
       "       [0.2601047 ],\n",
       "       [0.96367395],\n",
       "       [0.75446546],\n",
       "       [0.6155853 ],\n",
       "       [0.07482311],\n",
       "       [0.1858756 ],\n",
       "       [0.7846972 ],\n",
       "       [0.53109115],\n",
       "       [0.5651544 ],\n",
       "       [0.09366103],\n",
       "       [0.6699581 ],\n",
       "       [0.5620304 ],\n",
       "       [0.8517365 ],\n",
       "       [0.52880096],\n",
       "       [0.41083023],\n",
       "       [0.9193381 ],\n",
       "       [0.81800365],\n",
       "       [0.22148181],\n",
       "       [0.9138958 ],\n",
       "       [0.17696412],\n",
       "       [0.22513726],\n",
       "       [0.6513464 ],\n",
       "       [0.9238097 ],\n",
       "       [0.12347157],\n",
       "       [0.6727316 ],\n",
       "       [0.47489417],\n",
       "       [0.44684902],\n",
       "       [0.0612561 ],\n",
       "       [0.88085294],\n",
       "       [0.6389656 ],\n",
       "       [0.0524075 ],\n",
       "       [0.5255903 ],\n",
       "       [0.62138814],\n",
       "       [0.63343954],\n",
       "       [0.9421188 ],\n",
       "       [0.54773265],\n",
       "       [0.670787  ],\n",
       "       [0.21389927],\n",
       "       [0.22805946],\n",
       "       [0.90826565],\n",
       "       [0.88386816],\n",
       "       [0.39449632],\n",
       "       [0.5711316 ],\n",
       "       [0.9888846 ],\n",
       "       [0.23843099],\n",
       "       [0.2970683 ],\n",
       "       [0.45371708],\n",
       "       [0.2443004 ],\n",
       "       [0.9674609 ],\n",
       "       [0.6713802 ],\n",
       "       [0.6207322 ],\n",
       "       [0.87582153],\n",
       "       [0.18654469],\n",
       "       [0.28792834],\n",
       "       [0.5735356 ],\n",
       "       [0.44273648],\n",
       "       [0.15919371],\n",
       "       [0.8034012 ],\n",
       "       [0.88447297],\n",
       "       [0.300006  ],\n",
       "       [0.49338436],\n",
       "       [0.15806438],\n",
       "       [0.50620174],\n",
       "       [0.5365763 ],\n",
       "       [0.75737345],\n",
       "       [0.3857622 ],\n",
       "       [0.9759515 ],\n",
       "       [0.7661633 ],\n",
       "       [0.3806008 ],\n",
       "       [0.2576254 ],\n",
       "       [0.3061106 ],\n",
       "       [0.9080732 ],\n",
       "       [0.96682847],\n",
       "       [0.46252695],\n",
       "       [0.87467515],\n",
       "       [0.3411915 ],\n",
       "       [0.37294915],\n",
       "       [0.95997065],\n",
       "       [0.877607  ],\n",
       "       [0.15850258],\n",
       "       [0.03754658],\n",
       "       [0.10906373],\n",
       "       [0.8923292 ],\n",
       "       [0.33870545],\n",
       "       [0.94767094],\n",
       "       [0.4283942 ],\n",
       "       [0.20689201],\n",
       "       [0.22221714],\n",
       "       [0.2460372 ],\n",
       "       [0.73078847],\n",
       "       [0.35872367],\n",
       "       [0.39448074],\n",
       "       [0.5568491 ],\n",
       "       [0.2076228 ],\n",
       "       [0.51617116],\n",
       "       [0.33111987],\n",
       "       [0.64157945],\n",
       "       [0.97901404],\n",
       "       [0.9431281 ],\n",
       "       [0.13929631],\n",
       "       [0.7781657 ],\n",
       "       [0.88241875],\n",
       "       [0.8040402 ],\n",
       "       [0.8323884 ],\n",
       "       [0.7809401 ],\n",
       "       [0.36410692],\n",
       "       [0.8499342 ],\n",
       "       [0.0606097 ],\n",
       "       [0.6608256 ],\n",
       "       [0.7237797 ],\n",
       "       [0.41932702],\n",
       "       [0.28152996],\n",
       "       [0.63895637],\n",
       "       [0.23623444],\n",
       "       [0.7825388 ],\n",
       "       [0.11389089],\n",
       "       [0.618976  ],\n",
       "       [0.27070728],\n",
       "       [0.8847776 ],\n",
       "       [0.33450857],\n",
       "       [0.8221803 ]], dtype=float32)"
      ]
     },
     "execution_count": 27,
     "metadata": {},
     "output_type": "execute_result"
    }
   ],
   "source": [
    "# Make predictions with the test data\n",
    "predictions = nn.predict(X_test_scaled,verbose=2)\n",
    "\n",
    "\n",
    "# Display a sample of the predictions\n",
    "predictions"
   ]
  },
  {
   "cell_type": "code",
   "execution_count": 18,
   "metadata": {
    "colab": {
     "base_uri": "https://localhost:8080/"
    },
    "id": "Vet7qjgx6q62",
    "outputId": "0925af42-7e12-4978-8396-2a2c1580e1eb"
   },
   "outputs": [
    {
     "name": "stdout",
     "output_type": "stream",
     "text": [
      "13/13 - 0s - 126ms/epoch - 10ms/step\n"
     ]
    },
    {
     "data": {
      "text/plain": [
       "array([[0.63573396],\n",
       "       [0.41001907],\n",
       "       [0.88199055],\n",
       "       [0.61770827],\n",
       "       [0.9708398 ]], dtype=float32)"
      ]
     },
     "execution_count": 18,
     "metadata": {},
     "output_type": "execute_result"
    }
   ],
   "source": [
    "# Make predictions with the test data\n",
    "\n",
    "\n",
    "# Display a sample of the predictions\n"
   ]
  },
  {
   "cell_type": "code",
   "execution_count": 28,
   "metadata": {
    "colab": {
     "base_uri": "https://localhost:8080/",
     "height": 424
    },
    "id": "87o8exFPhjfl",
    "outputId": "da5339c5-cea7-43e4-ec22-e168ea16dfa2"
   },
   "outputs": [
    {
     "data": {
      "text/html": [
       "<div>\n",
       "<style scoped>\n",
       "    .dataframe tbody tr th:only-of-type {\n",
       "        vertical-align: middle;\n",
       "    }\n",
       "\n",
       "    .dataframe tbody tr th {\n",
       "        vertical-align: top;\n",
       "    }\n",
       "\n",
       "    .dataframe thead th {\n",
       "        text-align: right;\n",
       "    }\n",
       "</style>\n",
       "<table border=\"1\" class=\"dataframe\">\n",
       "  <thead>\n",
       "    <tr style=\"text-align: right;\">\n",
       "      <th></th>\n",
       "      <th>predictions</th>\n",
       "    </tr>\n",
       "  </thead>\n",
       "  <tbody>\n",
       "    <tr>\n",
       "      <th>0</th>\n",
       "      <td>1.0</td>\n",
       "    </tr>\n",
       "    <tr>\n",
       "      <th>1</th>\n",
       "      <td>0.0</td>\n",
       "    </tr>\n",
       "    <tr>\n",
       "      <th>2</th>\n",
       "      <td>1.0</td>\n",
       "    </tr>\n",
       "    <tr>\n",
       "      <th>3</th>\n",
       "      <td>1.0</td>\n",
       "    </tr>\n",
       "    <tr>\n",
       "      <th>4</th>\n",
       "      <td>1.0</td>\n",
       "    </tr>\n",
       "    <tr>\n",
       "      <th>...</th>\n",
       "      <td>...</td>\n",
       "    </tr>\n",
       "    <tr>\n",
       "      <th>395</th>\n",
       "      <td>1.0</td>\n",
       "    </tr>\n",
       "    <tr>\n",
       "      <th>396</th>\n",
       "      <td>0.0</td>\n",
       "    </tr>\n",
       "    <tr>\n",
       "      <th>397</th>\n",
       "      <td>1.0</td>\n",
       "    </tr>\n",
       "    <tr>\n",
       "      <th>398</th>\n",
       "      <td>0.0</td>\n",
       "    </tr>\n",
       "    <tr>\n",
       "      <th>399</th>\n",
       "      <td>1.0</td>\n",
       "    </tr>\n",
       "  </tbody>\n",
       "</table>\n",
       "<p>400 rows × 1 columns</p>\n",
       "</div>"
      ],
      "text/plain": [
       "     predictions\n",
       "0            1.0\n",
       "1            0.0\n",
       "2            1.0\n",
       "3            1.0\n",
       "4            1.0\n",
       "..           ...\n",
       "395          1.0\n",
       "396          0.0\n",
       "397          1.0\n",
       "398          0.0\n",
       "399          1.0\n",
       "\n",
       "[400 rows x 1 columns]"
      ]
     },
     "execution_count": 28,
     "metadata": {},
     "output_type": "execute_result"
    }
   ],
   "source": [
    "# Save the predictions to a DataFrame and round the predictions to binary results\n",
    "predictions_df = pd.DataFrame(columns=[\"predictions\"], data=predictions)\n",
    "predictions_df[\"predictions\"] = round(predictions_df[\"predictions\"],0)\n",
    "predictions_df"
   ]
  },
  {
   "cell_type": "code",
   "execution_count": 19,
   "metadata": {
    "colab": {
     "base_uri": "https://localhost:8080/",
     "height": 424
    },
    "id": "87o8exFPhjfl",
    "outputId": "da5339c5-cea7-43e4-ec22-e168ea16dfa2"
   },
   "outputs": [
    {
     "data": {
      "text/html": [
       "\n",
       "  <div id=\"df-b764d2b2-92a0-4966-87c3-cf2a7be385d8\" class=\"colab-df-container\">\n",
       "    <div>\n",
       "<style scoped>\n",
       "    .dataframe tbody tr th:only-of-type {\n",
       "        vertical-align: middle;\n",
       "    }\n",
       "\n",
       "    .dataframe tbody tr th {\n",
       "        vertical-align: top;\n",
       "    }\n",
       "\n",
       "    .dataframe thead th {\n",
       "        text-align: right;\n",
       "    }\n",
       "</style>\n",
       "<table border=\"1\" class=\"dataframe\">\n",
       "  <thead>\n",
       "    <tr style=\"text-align: right;\">\n",
       "      <th></th>\n",
       "      <th>predictions</th>\n",
       "    </tr>\n",
       "  </thead>\n",
       "  <tbody>\n",
       "    <tr>\n",
       "      <th>0</th>\n",
       "      <td>1.0</td>\n",
       "    </tr>\n",
       "    <tr>\n",
       "      <th>1</th>\n",
       "      <td>0.0</td>\n",
       "    </tr>\n",
       "    <tr>\n",
       "      <th>2</th>\n",
       "      <td>1.0</td>\n",
       "    </tr>\n",
       "    <tr>\n",
       "      <th>3</th>\n",
       "      <td>1.0</td>\n",
       "    </tr>\n",
       "    <tr>\n",
       "      <th>4</th>\n",
       "      <td>1.0</td>\n",
       "    </tr>\n",
       "    <tr>\n",
       "      <th>...</th>\n",
       "      <td>...</td>\n",
       "    </tr>\n",
       "    <tr>\n",
       "      <th>395</th>\n",
       "      <td>1.0</td>\n",
       "    </tr>\n",
       "    <tr>\n",
       "      <th>396</th>\n",
       "      <td>0.0</td>\n",
       "    </tr>\n",
       "    <tr>\n",
       "      <th>397</th>\n",
       "      <td>1.0</td>\n",
       "    </tr>\n",
       "    <tr>\n",
       "      <th>398</th>\n",
       "      <td>0.0</td>\n",
       "    </tr>\n",
       "    <tr>\n",
       "      <th>399</th>\n",
       "      <td>0.0</td>\n",
       "    </tr>\n",
       "  </tbody>\n",
       "</table>\n",
       "<p>400 rows × 1 columns</p>\n",
       "</div>\n",
       "    <div class=\"colab-df-buttons\">\n",
       "\n",
       "  <div class=\"colab-df-container\">\n",
       "    <button class=\"colab-df-convert\" onclick=\"convertToInteractive('df-b764d2b2-92a0-4966-87c3-cf2a7be385d8')\"\n",
       "            title=\"Convert this dataframe to an interactive table.\"\n",
       "            style=\"display:none;\">\n",
       "\n",
       "  <svg xmlns=\"http://www.w3.org/2000/svg\" height=\"24px\" viewBox=\"0 -960 960 960\">\n",
       "    <path d=\"M120-120v-720h720v720H120Zm60-500h600v-160H180v160Zm220 220h160v-160H400v160Zm0 220h160v-160H400v160ZM180-400h160v-160H180v160Zm440 0h160v-160H620v160ZM180-180h160v-160H180v160Zm440 0h160v-160H620v160Z\"/>\n",
       "  </svg>\n",
       "    </button>\n",
       "\n",
       "  <style>\n",
       "    .colab-df-container {\n",
       "      display:flex;\n",
       "      gap: 12px;\n",
       "    }\n",
       "\n",
       "    .colab-df-convert {\n",
       "      background-color: #E8F0FE;\n",
       "      border: none;\n",
       "      border-radius: 50%;\n",
       "      cursor: pointer;\n",
       "      display: none;\n",
       "      fill: #1967D2;\n",
       "      height: 32px;\n",
       "      padding: 0 0 0 0;\n",
       "      width: 32px;\n",
       "    }\n",
       "\n",
       "    .colab-df-convert:hover {\n",
       "      background-color: #E2EBFA;\n",
       "      box-shadow: 0px 1px 2px rgba(60, 64, 67, 0.3), 0px 1px 3px 1px rgba(60, 64, 67, 0.15);\n",
       "      fill: #174EA6;\n",
       "    }\n",
       "\n",
       "    .colab-df-buttons div {\n",
       "      margin-bottom: 4px;\n",
       "    }\n",
       "\n",
       "    [theme=dark] .colab-df-convert {\n",
       "      background-color: #3B4455;\n",
       "      fill: #D2E3FC;\n",
       "    }\n",
       "\n",
       "    [theme=dark] .colab-df-convert:hover {\n",
       "      background-color: #434B5C;\n",
       "      box-shadow: 0px 1px 3px 1px rgba(0, 0, 0, 0.15);\n",
       "      filter: drop-shadow(0px 1px 2px rgba(0, 0, 0, 0.3));\n",
       "      fill: #FFFFFF;\n",
       "    }\n",
       "  </style>\n",
       "\n",
       "    <script>\n",
       "      const buttonEl =\n",
       "        document.querySelector('#df-b764d2b2-92a0-4966-87c3-cf2a7be385d8 button.colab-df-convert');\n",
       "      buttonEl.style.display =\n",
       "        google.colab.kernel.accessAllowed ? 'block' : 'none';\n",
       "\n",
       "      async function convertToInteractive(key) {\n",
       "        const element = document.querySelector('#df-b764d2b2-92a0-4966-87c3-cf2a7be385d8');\n",
       "        const dataTable =\n",
       "          await google.colab.kernel.invokeFunction('convertToInteractive',\n",
       "                                                    [key], {});\n",
       "        if (!dataTable) return;\n",
       "\n",
       "        const docLinkHtml = 'Like what you see? Visit the ' +\n",
       "          '<a target=\"_blank\" href=https://colab.research.google.com/notebooks/data_table.ipynb>data table notebook</a>'\n",
       "          + ' to learn more about interactive tables.';\n",
       "        element.innerHTML = '';\n",
       "        dataTable['output_type'] = 'display_data';\n",
       "        await google.colab.output.renderOutput(dataTable, element);\n",
       "        const docLink = document.createElement('div');\n",
       "        docLink.innerHTML = docLinkHtml;\n",
       "        element.appendChild(docLink);\n",
       "      }\n",
       "    </script>\n",
       "  </div>\n",
       "\n",
       "\n",
       "<div id=\"df-c8bb016b-0816-49d7-917e-bb5329b4b9ea\">\n",
       "  <button class=\"colab-df-quickchart\" onclick=\"quickchart('df-c8bb016b-0816-49d7-917e-bb5329b4b9ea')\"\n",
       "            title=\"Suggest charts\"\n",
       "            style=\"display:none;\">\n",
       "\n",
       "<svg xmlns=\"http://www.w3.org/2000/svg\" height=\"24px\"viewBox=\"0 0 24 24\"\n",
       "     width=\"24px\">\n",
       "    <g>\n",
       "        <path d=\"M19 3H5c-1.1 0-2 .9-2 2v14c0 1.1.9 2 2 2h14c1.1 0 2-.9 2-2V5c0-1.1-.9-2-2-2zM9 17H7v-7h2v7zm4 0h-2V7h2v10zm4 0h-2v-4h2v4z\"/>\n",
       "    </g>\n",
       "</svg>\n",
       "  </button>\n",
       "\n",
       "<style>\n",
       "  .colab-df-quickchart {\n",
       "      --bg-color: #E8F0FE;\n",
       "      --fill-color: #1967D2;\n",
       "      --hover-bg-color: #E2EBFA;\n",
       "      --hover-fill-color: #174EA6;\n",
       "      --disabled-fill-color: #AAA;\n",
       "      --disabled-bg-color: #DDD;\n",
       "  }\n",
       "\n",
       "  [theme=dark] .colab-df-quickchart {\n",
       "      --bg-color: #3B4455;\n",
       "      --fill-color: #D2E3FC;\n",
       "      --hover-bg-color: #434B5C;\n",
       "      --hover-fill-color: #FFFFFF;\n",
       "      --disabled-bg-color: #3B4455;\n",
       "      --disabled-fill-color: #666;\n",
       "  }\n",
       "\n",
       "  .colab-df-quickchart {\n",
       "    background-color: var(--bg-color);\n",
       "    border: none;\n",
       "    border-radius: 50%;\n",
       "    cursor: pointer;\n",
       "    display: none;\n",
       "    fill: var(--fill-color);\n",
       "    height: 32px;\n",
       "    padding: 0;\n",
       "    width: 32px;\n",
       "  }\n",
       "\n",
       "  .colab-df-quickchart:hover {\n",
       "    background-color: var(--hover-bg-color);\n",
       "    box-shadow: 0 1px 2px rgba(60, 64, 67, 0.3), 0 1px 3px 1px rgba(60, 64, 67, 0.15);\n",
       "    fill: var(--button-hover-fill-color);\n",
       "  }\n",
       "\n",
       "  .colab-df-quickchart-complete:disabled,\n",
       "  .colab-df-quickchart-complete:disabled:hover {\n",
       "    background-color: var(--disabled-bg-color);\n",
       "    fill: var(--disabled-fill-color);\n",
       "    box-shadow: none;\n",
       "  }\n",
       "\n",
       "  .colab-df-spinner {\n",
       "    border: 2px solid var(--fill-color);\n",
       "    border-color: transparent;\n",
       "    border-bottom-color: var(--fill-color);\n",
       "    animation:\n",
       "      spin 1s steps(1) infinite;\n",
       "  }\n",
       "\n",
       "  @keyframes spin {\n",
       "    0% {\n",
       "      border-color: transparent;\n",
       "      border-bottom-color: var(--fill-color);\n",
       "      border-left-color: var(--fill-color);\n",
       "    }\n",
       "    20% {\n",
       "      border-color: transparent;\n",
       "      border-left-color: var(--fill-color);\n",
       "      border-top-color: var(--fill-color);\n",
       "    }\n",
       "    30% {\n",
       "      border-color: transparent;\n",
       "      border-left-color: var(--fill-color);\n",
       "      border-top-color: var(--fill-color);\n",
       "      border-right-color: var(--fill-color);\n",
       "    }\n",
       "    40% {\n",
       "      border-color: transparent;\n",
       "      border-right-color: var(--fill-color);\n",
       "      border-top-color: var(--fill-color);\n",
       "    }\n",
       "    60% {\n",
       "      border-color: transparent;\n",
       "      border-right-color: var(--fill-color);\n",
       "    }\n",
       "    80% {\n",
       "      border-color: transparent;\n",
       "      border-right-color: var(--fill-color);\n",
       "      border-bottom-color: var(--fill-color);\n",
       "    }\n",
       "    90% {\n",
       "      border-color: transparent;\n",
       "      border-bottom-color: var(--fill-color);\n",
       "    }\n",
       "  }\n",
       "</style>\n",
       "\n",
       "  <script>\n",
       "    async function quickchart(key) {\n",
       "      const quickchartButtonEl =\n",
       "        document.querySelector('#' + key + ' button');\n",
       "      quickchartButtonEl.disabled = true;  // To prevent multiple clicks.\n",
       "      quickchartButtonEl.classList.add('colab-df-spinner');\n",
       "      try {\n",
       "        const charts = await google.colab.kernel.invokeFunction(\n",
       "            'suggestCharts', [key], {});\n",
       "      } catch (error) {\n",
       "        console.error('Error during call to suggestCharts:', error);\n",
       "      }\n",
       "      quickchartButtonEl.classList.remove('colab-df-spinner');\n",
       "      quickchartButtonEl.classList.add('colab-df-quickchart-complete');\n",
       "    }\n",
       "    (() => {\n",
       "      let quickchartButtonEl =\n",
       "        document.querySelector('#df-c8bb016b-0816-49d7-917e-bb5329b4b9ea button');\n",
       "      quickchartButtonEl.style.display =\n",
       "        google.colab.kernel.accessAllowed ? 'block' : 'none';\n",
       "    })();\n",
       "  </script>\n",
       "</div>\n",
       "    </div>\n",
       "  </div>\n"
      ],
      "text/plain": [
       "     predictions\n",
       "0            1.0\n",
       "1            0.0\n",
       "2            1.0\n",
       "3            1.0\n",
       "4            1.0\n",
       "..           ...\n",
       "395          1.0\n",
       "396          0.0\n",
       "397          1.0\n",
       "398          0.0\n",
       "399          0.0\n",
       "\n",
       "[400 rows x 1 columns]"
      ]
     },
     "execution_count": 19,
     "metadata": {},
     "output_type": "execute_result"
    }
   ],
   "source": [
    "# Save the predictions to a DataFrame and round the predictions to binary results\n"
   ]
  },
  {
   "cell_type": "markdown",
   "metadata": {
    "id": "oxxLwycg6q62"
   },
   "source": [
    "### Step 4: Display a classification report with the y test data and predictions"
   ]
  },
  {
   "cell_type": "code",
   "execution_count": 29,
   "metadata": {
    "colab": {
     "base_uri": "https://localhost:8080/"
    },
    "id": "UTxYZibW6q67",
    "outputId": "f341b396-9b4c-478c-dba8-f6d904ba10e3"
   },
   "outputs": [
    {
     "name": "stdout",
     "output_type": "stream",
     "text": [
      "              precision    recall  f1-score   support\n",
      "\n",
      "           0       0.73      0.73      0.73       188\n",
      "           1       0.76      0.75      0.76       212\n",
      "\n",
      "    accuracy                           0.74       400\n",
      "   macro avg       0.74      0.74      0.74       400\n",
      "weighted avg       0.75      0.74      0.75       400\n",
      "\n"
     ]
    }
   ],
   "source": [
    "# Print the classification report with the y test data and predictions\n",
    "print(classification_report(y_test, predictions_df[\"predictions\"].values))"
   ]
  },
  {
   "cell_type": "code",
   "execution_count": 20,
   "metadata": {
    "colab": {
     "base_uri": "https://localhost:8080/"
    },
    "id": "UTxYZibW6q67",
    "outputId": "f341b396-9b4c-478c-dba8-f6d904ba10e3"
   },
   "outputs": [
    {
     "name": "stdout",
     "output_type": "stream",
     "text": [
      "              precision    recall  f1-score   support\n",
      "\n",
      "           0       0.70      0.76      0.73       188\n",
      "           1       0.77      0.72      0.74       212\n",
      "\n",
      "    accuracy                           0.73       400\n",
      "   macro avg       0.74      0.74      0.73       400\n",
      "weighted avg       0.74      0.73      0.74       400\n",
      "\n"
     ]
    }
   ],
   "source": [
    "# Print the classification report with the y test data and predictions\n"
   ]
  },
  {
   "cell_type": "markdown",
   "metadata": {
    "id": "8Aaof1tBtcp6"
   },
   "source": [
    "---\n",
    "## Discuss creating a recommendation system for student loans"
   ]
  },
  {
   "cell_type": "markdown",
   "metadata": {
    "id": "_CC8cNpNtcp6"
   },
   "source": [
    "Briefly answer the following questions in the space provided:\n",
    "\n",
    "1. Describe the data that you would need to collect to build a recommendation system to recommend student loan options for students. Explain why this data would be relevant and appropriate.\n",
    "\n",
    "2. Based on the data you chose to use in this recommendation system, would your model be using collaborative filtering, content-based filtering, or context-based filtering? Justify why the data you selected would be suitable for your choice of filtering method.\n",
    "\n",
    "3. Describe two real-world challenges that you would take into consideration while building a recommendation system for student loans. Explain why these challenges would be of concern for a student loan recommendation system."
   ]
  },
  {
   "cell_type": "markdown",
   "metadata": {
    "id": "5KqIT8kYtcp6"
   },
   "source": [
    "**1. Describe the data that you would need to collect to build a recommendation system to recommend student loan options for students. Explain why this data would be relevant and appropriate.**\n",
    "\n",
    "***To build a recommendation system for student loan options, you would typically need to collect the following types of data:***\n",
    "\n",
    "**Student Information**\n",
    "\n",
    "-Demographic Information: Age, gender, location (city, state), educational background (high school GPA, standardized test scores).\n",
    "-Academic Information: Current academic institution, major or field of study, expected graduation date.\n",
    "-Financial Information: Household income, expected family contribution (EFC), other financial aid received.\n",
    "\n",
    "**Loan Options Data**\n",
    "\n",
    "-Loan Products: Details of different student loan products available, including interest rates, repayment terms (e.g., fixed vs. variable), grace periods, loan forgiveness options.\n",
    "-Lender Information: Details about the lenders offering these loans, their reputation, customer reviews, and reliability.\n",
    "-Loan Application Process: Requirements for eligibility, documentation needed, approval process timeline.\n",
    "\n",
    "**Historical Data (if available)**\n",
    "\n",
    "-Prior Loan Applications: If accessible (with consent), data on previously applied loans, approvals, and rejections.\n",
    "-Loan Repayment History: For students who have taken loans before, their repayment behavior and outcomes.\n",
    "\n",
    "**Relevance and Appropriateness of Data:**\n",
    "\n",
    "-Student Information: Helps personalize loan recommendations based on demographic, academic, and financial profiles.\n",
    "-Loan Options Data: Essential for understanding the characteristics and suitability of different loan products.\n",
    "-Historical Data: Provides insights into past decisions and outcomes, enabling better predictions and recommendations.\n",
    "\n",
    "\n",
    "**2. Based on the data you chose to use in this recommendation system, would your model be using collaborative filtering, content-based filtering, or context-based filtering? Justify why the data you selected would be suitable for your choice of filtering method.**\n",
    "\n",
    "Based on the data collected, the recommendation system for student loans would likely utilize content-based filtering:\n",
    "\n",
    "**Content-Based Filtering:**\n",
    "\n",
    "-Justification: This method recommends items (in this case, loan options) based on their similarity to items the user (student) has interacted with or their profile. In the context of student loans:\n",
    "-Student Information: Profiles can be used to match students with loan products that align with their demographic, academic, and financial attributes.\n",
    "-Loan Options Data: Details about loan products can be analyzed to recommend options that closely match the student's preferences and financial situation.\n",
    "\n",
    "\n",
    "\n",
    "**3. Describe two real-world challenges that you would take into consideration while building a recommendation system for student loans. Explain why these challenges would be of concern for a student loan recommendation system.**\n",
    "\n",
    "Two real world challenges i would take into consideration while building a student loan recommendation system include:\n",
    "\n",
    "**Privacy and Data Security:**\n",
    "Concern: Handling sensitive personal and financial data requires strict adherence to privacy laws like California Consumer Privacy Act (CCPA) or General Data Protection Regulation (GDPR) and students need assurance that their data is protected from breaches and misuse.\n",
    "\n",
    "**Accuracy and Fairness:**\n",
    "Concern: Ensuring that recommendations are accurate and fair involves mitigating biases in the data (such as socio-economic biases). The system should avoid reinforcing existing inequalities in access to financial opportunities.\n",
    "\n",
    "These challenges are crucial because student loans are a significant financial decision affecting long-term financial health. Students and families rely on accurate, trustworthy recommendations to make informed choices without facing discrimination or privacy breaches. Addressing these challenges ensures the system's reliability and ethical use of data in financial decision-making.\n",
    "\n",
    "\n"
   ]
  }
 ],
 "metadata": {
  "colab": {
   "provenance": []
  },
  "kernelspec": {
   "display_name": "Python 3 (ipykernel)",
   "language": "python",
   "name": "python3"
  },
  "language_info": {
   "codemirror_mode": {
    "name": "ipython",
    "version": 3
   },
   "file_extension": ".py",
   "mimetype": "text/x-python",
   "name": "python",
   "nbconvert_exporter": "python",
   "pygments_lexer": "ipython3",
   "version": "3.10.13"
  }
 },
 "nbformat": 4,
 "nbformat_minor": 4
}
